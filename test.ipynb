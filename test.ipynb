{
 "cells": [
  {
   "cell_type": "code",
   "execution_count": 96,
   "metadata": {},
   "outputs": [],
   "source": [
    "# Load libraries\n",
    "import pandas as pd\n",
    "from selenium import webdriver\n",
    "from selenium.webdriver.chrome.service import Service\n",
    "from selenium.webdriver.common.by import By\n",
    "\n",
    "# Set up and initialize the webdriver \n",
    "options = webdriver.ChromeOptions()\n",
    "options.add_argument('--headless')\n",
    "driver = webdriver.Chrome(service=Service(), options=options)\n",
    "\n",
    "# Define columns for data table\n",
    "my_colums = ['Corregimientos', 'Mulino', 'Lombana', 'Martin', 'Romulo',\n",
    "             'Zulay', 'Gaby', 'Maribel', 'Meliton', 'Electores Totales',\n",
    "             'Electores Escrutados', 'Mesas Escrutadas', 'Votos Emitidos']\n",
    "\n",
    "# Define the number of districts per province\n",
    "provinces = [\n",
    "    ('01', 'Bocas del Toro', 4), \n",
    "    ('02', 'Coclé', 6), \n",
    "    ('03', 'Colón', 6),\n",
    "    ('04', 'Chiriquí', 14), \n",
    "    ('05', 'Darién', 3), \n",
    "    ('06', 'Herrera', 7),\t\n",
    "    ('07', 'Los Santos', 7), \n",
    "    ('08', 'Panamá', 6), \n",
    "    ('09', 'Veraguas', 12),\n",
    "    ('10', 'Com. Guna Yala', 0), \n",
    "    ('11', 'Com. Emberá', 2), \n",
    "    ('12', 'Com. Ngäbe-Buglé', 9), \n",
    "    ('13', 'Panamá Oeste', 5),\n",
    "    ('14', 'Com. Kuna de Madugandí', 0), \n",
    "    ('15', 'Com. Kuna Wargandí', 0),\n",
    "    ('16', 'Com. Naso Tjër Di', 0),\n",
    "]"
   ]
  },
  {
   "cell_type": "code",
   "execution_count": 100,
   "metadata": {},
   "outputs": [],
   "source": [
    "def get_district_data(driver, columns=my_colums):    \n",
    "    table_data = []\n",
    "    driver.implicitly_wait(15)\n",
    "    table_rows = driver.find_elements(By.TAG_NAME, \"tr\")\n",
    "    for i, row in enumerate(table_rows):\n",
    "        if i > 0:\n",
    "            table_data.append(row.text.split(\"\\n\"))\n",
    "    df = pd.DataFrame(columns=columns, data=table_data)\n",
    "    if len(df) == 0:\n",
    "        print(\"Error: No data found in table\")\n",
    "        return None\n",
    "    else:\n",
    "        return df\n",
    "\n",
    "def get_district_name(driver):\n",
    "    driver.implicitly_wait(15)\n",
    "    try:\n",
    "        title_element = driver.find_element(By.CLASS_NAME, \"te-titulo-seccion\")\n",
    "        section_title = title_element.text.split(\">\")\n",
    "        district_name = section_title[1].split(\":\")[1]\n",
    "        district_name = district_name.strip().title()\n",
    "        return district_name\n",
    "    except IndexError:\n",
    "        print(\"Error: No elements found with class name 'te-titulo-seccion'\")\n",
    "        return None"
   ]
  },
  {
   "cell_type": "code",
   "execution_count": 102,
   "metadata": {},
   "outputs": [
    {
     "name": "stdout",
     "output_type": "stream",
     "text": [
      "BOCAS DEL TORO\n",
      "01 - Bocas Del Toro\n",
      "Warning: No data found in table\n"
     ]
    },
    {
     "ename": "TypeError",
     "evalue": "'NoneType' object does not support item assignment",
     "output_type": "error",
     "traceback": [
      "\u001b[1;31m---------------------------------------------------------------------------\u001b[0m",
      "\u001b[1;31mTypeError\u001b[0m                                 Traceback (most recent call last)",
      "Cell \u001b[1;32mIn[102], line 22\u001b[0m\n\u001b[0;32m     20\u001b[0m df \u001b[38;5;241m=\u001b[39m get_district_data(driver)\n\u001b[0;32m     21\u001b[0m dist_code \u001b[38;5;241m=\u001b[39m \u001b[38;5;124m\"\u001b[39m\u001b[38;5;132;01m{:02d}\u001b[39;00m\u001b[38;5;124m\"\u001b[39m\u001b[38;5;241m.\u001b[39mformat(n\u001b[38;5;241m+\u001b[39m\u001b[38;5;241m1\u001b[39m)\n\u001b[1;32m---> 22\u001b[0m \u001b[43mdf\u001b[49m\u001b[43m[\u001b[49m\u001b[38;5;124;43m'\u001b[39;49m\u001b[38;5;124;43mProv_ID\u001b[39;49m\u001b[38;5;124;43m'\u001b[39;49m\u001b[43m]\u001b[49m \u001b[38;5;241m=\u001b[39m prov_code\n\u001b[0;32m     23\u001b[0m df[\u001b[38;5;124m'\u001b[39m\u001b[38;5;124mDist_ID\u001b[39m\u001b[38;5;124m'\u001b[39m] \u001b[38;5;241m=\u001b[39m dist_code\n\u001b[0;32m     24\u001b[0m df[\u001b[38;5;124m'\u001b[39m\u001b[38;5;124mProvincia\u001b[39m\u001b[38;5;124m'\u001b[39m] \u001b[38;5;241m=\u001b[39m prov_name\n",
      "\u001b[1;31mTypeError\u001b[0m: 'NoneType' object does not support item assignment"
     ]
    }
   ],
   "source": [
    "# Defina base URL\n",
    "base_url = \"https://resultados.te.gob.pa/resultados/100/presidente/1\"\n",
    "\n",
    "# Loop through all provinces\n",
    "for p in range(len(provinces)):\n",
    "    prov_record = provinces[p]\n",
    "    prov_code = prov_record[0]\n",
    "    prov_name = prov_record[1]\n",
    "    n_districts = prov_record[2]\n",
    "    print(prov_name.upper())\n",
    "    \n",
    "    # Loop through districts (if necessary)\n",
    "    if n_districts > 0:\n",
    "        districts_list = []\n",
    "        for n in range(n_districts):\n",
    "            extra_url = f\"/provincia/{str(p+1)}/distrito/{str(n)}\"\n",
    "            driver.get(base_url + extra_url)\n",
    "            d_name = get_district_name(driver)\n",
    "            print(f\"{dist_code} - {d_name}\")\n",
    "            df = get_district_data(driver)\n",
    "            dist_code = \"{:02d}\".format(n+1)\n",
    "            df['Prov_ID'] = prov_code\n",
    "            df['Dist_ID'] = dist_code\n",
    "            df['Provincia'] = prov_name\n",
    "            df['Distrito'] = d_name\n",
    "            districts_list.append(df)\n",
    "    else:\n",
    "        extra_url = f\"/provincia/{str(p+1)}\"\n",
    "        driver.get(base_url + extra_url)\n",
    "        df = get_district_data(driver)\n",
    "        df['Prov_ID'] = prov_code\n",
    "        df['Dist_ID'] = \"NA\"\n",
    "        df['Provincia'] = prov_name\n",
    "        df['Distrito'] = \"NA\"\n",
    "        districts_list = [df]\n",
    "\n",
    "    # Save to a CSV file\n",
    "    df_prov = pd.concat(districts_list)\n",
    "    file_name = f\"data/presidenciales_{prov_code}.csv\"\n",
    "    df_prov.to_csv(file_name, index=False)"
   ]
  }
 ],
 "metadata": {
  "kernelspec": {
   "display_name": "web-dev",
   "language": "python",
   "name": "python3"
  },
  "language_info": {
   "codemirror_mode": {
    "name": "ipython",
    "version": 3
   },
   "file_extension": ".py",
   "mimetype": "text/x-python",
   "name": "python",
   "nbconvert_exporter": "python",
   "pygments_lexer": "ipython3",
   "version": "3.12.3"
  }
 },
 "nbformat": 4,
 "nbformat_minor": 2
}
